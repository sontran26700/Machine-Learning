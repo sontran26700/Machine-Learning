{
 "cells": [
  {
   "cell_type": "code",
   "execution_count": 1,
   "metadata": {},
   "outputs": [],
   "source": [
    "import nltk \n",
    "model = nltk.parse.corenlp.CoreNLPServer(\n",
    "    'C:/Users/Mr.ST/Downloads/stanford-corenlp-4.2.0-models-english.jar',\n",
    "        'C:/Users/Mr.ST/Downloads/stanford-corenlp-latest/stanford-corenlp-4.2.0/stanford-corenlp-4.2.0-models.jar')\n"
   ]
  },
  {
   "cell_type": "code",
   "execution_count": 2,
   "metadata": {},
   "outputs": [],
   "source": [
    "# model.start()"
   ]
  },
  {
   "cell_type": "code",
   "execution_count": 3,
   "metadata": {},
   "outputs": [],
   "source": [
    "from nltk.parse.corenlp import CoreNLPParser\n",
    "from nltk.tree import Tree"
   ]
  },
  {
   "cell_type": "code",
   "execution_count": 4,
   "metadata": {},
   "outputs": [
    {
     "name": "stdout",
     "output_type": "stream",
     "text": [
      "(ROOT\n",
      "  (S\n",
      "    (NP (PRP$ My) (JJ English) (NN Instructor))\n",
      "    (VP (VBD were) (NP (DT a) (JJ good) (NN teacher)))\n",
      "    (. .)))\n"
     ]
    }
   ],
   "source": [
    "string = \"My English Instructor were a good teacher.\"\n",
    "parser = CoreNLPParser()\n",
    "parse = next(parser.raw_parse(string))\n",
    "print(str(parse))"
   ]
  },
  {
   "cell_type": "code",
   "execution_count": 12,
   "metadata": {},
   "outputs": [
    {
     "name": "stdout",
     "output_type": "stream",
     "text": [
      "(ROOT\n",
      "  (S\n",
      "    (NP (PRP$ my) (JJ english) (NN instructor))\n",
      "    (VP (VBD were) (NP (DT a) (JJ good) (NN teacher)))\n",
      "    (. .)))\n"
     ]
    },
    {
     "data": {
      "image/png": "[encoded data removed]",
      "text/plain": [
       "Tree('ROOT', [Tree('S', [Tree('NP', [Tree('PRP$', ['my']), Tree('JJ', ['english']), Tree('NN', ['instructor'])]), Tree('VP', [Tree('VBD', ['were']), Tree('NP', [Tree('DT', ['a']), Tree('JJ', ['good']), Tree('NN', ['teacher'])])]), Tree('.', ['.'])])])"
      ]
     },
     "execution_count": 12,
     "metadata": {},
     "output_type": "execute_result"
    }
   ],
   "source": [
    "import os\n",
    "path_to_gs = \"C:/Program Files/gs/gs9.53.3/bin\"\n",
    "os.environ['PATH'] += os.pathsep + path_to_gs\n",
    "\n",
    "def parse_processing(string):\n",
    "    #Tạo parse tree\n",
    "    parser = CoreNLPParser()\n",
    "    parse = next(parser.raw_parse(string))\n",
    "    #Định dạng kiểu cho parse tree\n",
    "    tree = Tree.fromstring(str(parse), \n",
    "               read_node=lambda s: \"%s\" % s, # xuất node\n",
    "               read_leaf=lambda s: \"%s\" % s.lower()) # xuất lá\n",
    "    #tree.pretty_print()\n",
    "    return tree\n",
    "tree = parse_processing(string)\n",
    "print(tree)\n",
    "tree"
   ]
  },
  {
   "cell_type": "code",
   "execution_count": 13,
   "metadata": {},
   "outputs": [
    {
     "name": "stdout",
     "output_type": "stream",
     "text": [
      "2\n"
     ]
    },
    {
     "data": {
      "image/png": "[encoded data removed]",
      "text/plain": [
       "Tree('ROOT', [Tree('S', [Tree('NP', [Tree('PRP', ['i'])]), Tree('VP', [Tree('VBP', ['love']), Tree('NP', [Tree('PRP', ['you'])])])])])"
      ]
     },
     "execution_count": 13,
     "metadata": {},
     "output_type": "execute_result"
    }
   ],
   "source": [
    "sent = 'I love you'\n",
    "def parse(sent):\n",
    "    sent = sent.lower()\n",
    "    tree = parse_processing(sent)\n",
    "    return tree\n",
    "\n",
    "tree = parse(sent)\n",
    "print(len(tree[0]))\n",
    "tree"
   ]
  },
  {
   "cell_type": "code",
   "execution_count": 14,
   "metadata": {},
   "outputs": [],
   "source": [
    "# xác định ngôi của chủ ngữ\n",
    "'''\n",
    "1:  Ngôi thứ nhất số ít: I\n",
    "2:  Ngôi thứ nhất số nhiều: we\n",
    "3:  Ngôi thứ 2: you \n",
    "4:  Ngôi thứ 3 số ít: he, she, it\n",
    "5:   Ngôi thứ 3 số nhiều: they \n",
    "-1: không xác định (cấu trúc câu không có chủ ngữ)\n",
    "'''\n",
    "def getNP_VP(tree):\n",
    "    for i in range(len(tree[0])-1):\n",
    "        if tree[0][i].label()=='NP' and tree[0][i+1].label()=='VP':\n",
    "            return tree[0][i], tree[0][i+1]\n",
    "    return 0,0\n",
    "    "
   ]
  },
  {
   "cell_type": "code",
   "execution_count": 15,
   "metadata": {},
   "outputs": [],
   "source": [
    "def get_subject_type(node):\n",
    "    words = node.leaves()\n",
    "    if 'i' in words:\n",
    "        return 1\n",
    "    elif 'we' in words:\n",
    "        return 2\n",
    "    elif 'you' in words:\n",
    "        return 3\n",
    "    elif len(set(words).intersection(['he','she','it']))>0:\n",
    "        return 4\n",
    "    elif 'they' in words:\n",
    "        return 5\n",
    "    else:\n",
    "        return -1\n",
    "    "
   ]
  },
  {
   "cell_type": "code",
   "execution_count": 16,
   "metadata": {},
   "outputs": [],
   "source": [
    "# lấy type của verb\n",
    "'''\n",
    "1: VB: Verb, base form\n",
    "2: VBP: Verb, non-3rd person singular present\n",
    "3: VBZ: Verb, 3rd person singular present\n",
    "4: VBD: Verb, past tense\n",
    "5: VBG: Verb, gerund or present participle\n",
    "6: VBN: Verb, past participle\n",
    "'''\n",
    "vdict={'VB':1, 'VBP':2,'VBZ':3,'VBD':4,'VBG':5,'VBN':6}\n",
    "def get_verb_type(node):\n",
    "    for sub in node.subtrees():\n",
    "        k = sub.label()\n",
    "        if k in vdict.keys():\n",
    "            return vdict[k]\n",
    "    return -1"
   ]
  },
  {
   "cell_type": "code",
   "execution_count": 17,
   "metadata": {},
   "outputs": [],
   "source": [
    "# xác định nguyên tắc lỗi\n",
    "'''\n",
    "NP:4 -> VP:3\n",
    "'''\n",
    "match={1:[2],4:[3]}\n",
    "def check_grammar(sent):\n",
    "    tree = parse(sent)\n",
    "    NP,VP = getNP_VP(tree)\n",
    "    n = get_subject_type(NP)\n",
    "    v = get_verb_type(VP) \n",
    "    if n in match.keys():\n",
    "        if not v in match[n]:\n",
    "            return 'error'\n",
    "    return 'ok'"
   ]
  },
  {
   "cell_type": "code",
   "execution_count": 18,
   "metadata": {},
   "outputs": [
    {
     "data": {
      "text/plain": [
       "'ok'"
      ]
     },
     "execution_count": 18,
     "metadata": {},
     "output_type": "execute_result"
    }
   ],
   "source": [
    "#sent = 'she want to go to school'\n",
    "sent = 'she wants to go to school'\n",
    "check_grammar(sent)"
   ]
  },
  {
   "cell_type": "code",
   "execution_count": null,
   "metadata": {
    "collapsed": true
   },
   "outputs": [],
   "source": []
  },
  {
   "cell_type": "code",
   "execution_count": null,
   "metadata": {},
   "outputs": [],
   "source": []
  },
  {
   "cell_type": "code",
   "execution_count": null,
   "metadata": {},
   "outputs": [],
   "source": []
  }
 ],
 "metadata": {
  "kernelspec": {
   "display_name": "Python 3",
   "language": "python",
   "name": "python3"
  },
  "language_info": {
   "codemirror_mode": {
    "name": "ipython",
    "version": 3
   },
   "file_extension": ".py",
   "mimetype": "text/x-python",
   "name": "python",
   "nbconvert_exporter": "python",
   "pygments_lexer": "ipython3",
   "version": "3.8.5"
  }
 },
 "nbformat": 4,
 "nbformat_minor": 5
}
