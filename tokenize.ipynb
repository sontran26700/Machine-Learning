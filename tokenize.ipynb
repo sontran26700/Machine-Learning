{
 "cells": [
  {
   "cell_type": "code",
   "execution_count": 273,
   "metadata": {},
   "outputs": [],
   "source": [
    "import re\n",
    "\n",
    "#re.search(<regex>,<string>)"
   ]
  },
  {
   "cell_type": "code",
   "execution_count": 274,
   "metadata": {},
   "outputs": [],
   "source": [
    "txt = \"\"\"Hai khu chung cư nằm trong khu vực \"phố chung cư\" ở Đà Nẵng. Các ca dương tính ghi nhận tại đây gồm \"bệnh nhân 849, 853, 780, 781, 797 và 802\". Từ 25/7 đến nay, Đà Nẵng đã ghi nhận 296 người mắc nCoV. Thành phố đang tiếp tục áp dụng cách ly xã hội theo chỉ thỉ 16 để khoanh vùng, dập dịch.\"\"\""
   ]
  },
  {
   "cell_type": "code",
   "execution_count": 2,
   "metadata": {},
   "outputs": [
    {
     "ename": "NameError",
     "evalue": "name 're' is not defined",
     "output_type": "error",
     "traceback": [
      "\u001b[1;31m---------------------------------------------------------------------------\u001b[0m",
      "\u001b[1;31mNameError\u001b[0m                                 Traceback (most recent call last)",
      "\u001b[1;32m<ipython-input-2-bb122db13dd2>\u001b[0m in \u001b[0;36m<module>\u001b[1;34m\u001b[0m\n\u001b[1;32m----> 1\u001b[1;33m \u001b[0mx\u001b[0m \u001b[1;33m=\u001b[0m \u001b[0mre\u001b[0m\u001b[1;33m.\u001b[0m\u001b[0msplit\u001b[0m\u001b[1;33m(\u001b[0m\u001b[1;34m' *[\\.\\?!][\\'\"\\)\\]]* *'\u001b[0m\u001b[1;33m,\u001b[0m \u001b[0mtxt\u001b[0m\u001b[1;33m)\u001b[0m\u001b[1;33m\u001b[0m\u001b[1;33m\u001b[0m\u001b[0m\n\u001b[0m\u001b[0;32m      2\u001b[0m \u001b[0mprint\u001b[0m\u001b[1;33m(\u001b[0m\u001b[0mx\u001b[0m\u001b[1;33m)\u001b[0m\u001b[1;33m\u001b[0m\u001b[1;33m\u001b[0m\u001b[0m\n\u001b[0;32m      3\u001b[0m \u001b[1;32mfor\u001b[0m \u001b[0mi\u001b[0m \u001b[1;32min\u001b[0m \u001b[0mx\u001b[0m\u001b[1;33m:\u001b[0m\u001b[1;33m\u001b[0m\u001b[1;33m\u001b[0m\u001b[0m\n\u001b[0;32m      4\u001b[0m     \u001b[0mprint\u001b[0m\u001b[1;33m(\u001b[0m\u001b[0mi\u001b[0m\u001b[1;33m,\u001b[0m\u001b[0mend\u001b[0m\u001b[1;33m=\u001b[0m\u001b[1;34m'. \\n'\u001b[0m\u001b[1;33m)\u001b[0m\u001b[1;33m\u001b[0m\u001b[1;33m\u001b[0m\u001b[0m\n",
      "\u001b[1;31mNameError\u001b[0m: name 're' is not defined"
     ]
    }
   ],
   "source": [
    "x = re.split(' *[\\.\\?!][\\'\"\\)\\]]* *', txt)\n",
    "\n",
    "for i in x:\n",
    "    print(i,end='. \\n')"
   ]
  },
  {
   "cell_type": "code",
   "execution_count": 276,
   "metadata": {},
   "outputs": [],
   "source": [
    "s = '''Despite some logistical challenges, the boxes stuffed with high-quality food cut out the middleman, making delivery easier and keeping the produce fresher while providing necessary relief to food banks, whose demand spiked as Covid-19 spread into every corner of the country. Distributors and charities said the program was efficient. The people getting the boxes were happy with the product. But the final round of the program ends with 31/12/2020, and it's unclear whether it will continue in 04/05/2021. In October 2019, the Kenai Peninsula Food Bank distributed 80.670 pounds of food. In October 2020, the number tripled, to 242.479 pounds — 112.500 of those pounds came from 4000 Farmers to 8000 Families boxes. According to https://www.nbcnews.com/news/us-news/food-banks-fear-possible-end-usda-farmers-families-food-box-n1252578'''"
   ]
  },
  {
   "cell_type": "code",
   "execution_count": 1,
   "metadata": {},
   "outputs": [
    {
     "ename": "NameError",
     "evalue": "name 're' is not defined",
     "output_type": "error",
     "traceback": [
      "\u001b[1;31m---------------------------------------------------------------------------\u001b[0m",
      "\u001b[1;31mNameError\u001b[0m                                 Traceback (most recent call last)",
      "\u001b[1;32m<ipython-input-1-c2b55a034dac>\u001b[0m in \u001b[0;36m<module>\u001b[1;34m\u001b[0m\n\u001b[1;32m----> 1\u001b[1;33m \u001b[0murls\u001b[0m \u001b[1;33m=\u001b[0m \u001b[0mre\u001b[0m\u001b[1;33m.\u001b[0m\u001b[0mfindall\u001b[0m\u001b[1;33m(\u001b[0m\u001b[1;34m'(?:(?:https?|ftp):\\/\\/)[\\w/\\-?=%.]+\\.[\\w/\\-&?=%.]+'\u001b[0m\u001b[1;33m,\u001b[0m \u001b[0ms\u001b[0m\u001b[1;33m)\u001b[0m\u001b[1;33m\u001b[0m\u001b[1;33m\u001b[0m\u001b[0m\n\u001b[0m\u001b[0;32m      2\u001b[0m \u001b[0mprint\u001b[0m\u001b[1;33m(\u001b[0m\u001b[0murls\u001b[0m\u001b[1;33m)\u001b[0m\u001b[1;33m\u001b[0m\u001b[1;33m\u001b[0m\u001b[0m\n",
      "\u001b[1;31mNameError\u001b[0m: name 're' is not defined"
     ]
    }
   ],
   "source": [
    "urls = re.findall('(?:(?:https?|ftp):\\/\\/)[\\w/\\-?=%.]+\\.[\\w/\\-&?=%.]+', s)\n",
    "#print(urls)"
   ]
  },
  {
   "cell_type": "code",
   "execution_count": 278,
   "metadata": {},
   "outputs": [],
   "source": [
    "#date dd MM YYYY\n",
    "date=re.findall(\"([0-9]{2}\\/[0-9]{2}\\/[0-9]{4}|[0-9]{2}\\-[0-9]{2}\\-[0-9]{4})\",s)\n",
    "#print(date)"
   ]
  },
  {
   "cell_type": "code",
   "execution_count": 279,
   "metadata": {},
   "outputs": [],
   "source": [
    "#number\n",
    "num = re.findall(r'\\s\\d+\\s', s)\n",
    "#print(num)\n",
    "\n",
    "#float\n",
    "float_num = re.findall(\"\\d+\\.\\d+\", s)\n",
    "#print(float_num)\n",
    "\n",
    "#mix of string and decimal\n",
    "#dec = re.findall(r\"^[+-]?((\\d+(\\.\\d+)?)|(\\.\\d+))$\",s)\n",
    "#print(dec)\n",
    "\n",
    "#characters only\n",
    "char = re.findall(r\"\\b[a-zA-Z]+\\b\",s)\n",
    "#print(char)"
   ]
  },
  {
   "cell_type": "code",
   "execution_count": 280,
   "metadata": {},
   "outputs": [
    {
     "name": "stdout",
     "output_type": "stream",
     "text": [
      "Website:  ['https://www.nbcnews.com/news/us-news/food-banks-fear-possible-end-usda-farmers-families-food-box-n1252578']\n",
      "Website:  1\n",
      "Date:  ['31/12/2020', '04/05/2021']\n",
      "Date:  2\n",
      "Number:  [' 4000 ', ' 8000 ']\n",
      "Number:  2\n",
      "Float:  ['80.670', '242.479', '112.500']\n",
      "Float:  3\n",
      "Characters only:  ['Despite', 'some', 'logistical', 'challenges', 'the', 'boxes', 'stuffed', 'with', 'high', 'quality', 'food', 'cut', 'out', 'the', 'middleman', 'making', 'delivery', 'easier', 'and', 'keeping', 'the', 'produce', 'fresher', 'while', 'providing', 'necessary', 'relief', 'to', 'food', 'banks', 'whose', 'demand', 'spiked', 'as', 'Covid', 'spread', 'into', 'every', 'corner', 'of', 'the', 'country', 'Distributors', 'and', 'charities', 'said', 'the', 'program', 'was', 'efficient', 'The', 'people', 'getting', 'the', 'boxes', 'were', 'happy', 'with', 'the', 'product', 'But', 'the', 'final', 'round', 'of', 'the', 'program', 'ends', 'with', 'and', 'it', 's', 'unclear', 'whether', 'it', 'will', 'continue', 'in', 'In', 'October', 'the', 'Kenai', 'Peninsula', 'Food', 'Bank', 'distributed', 'pounds', 'of', 'food', 'In', 'October', 'the', 'number', 'tripled', 'to', 'pounds', 'of', 'those', 'pounds', 'came', 'from', 'Farmers', 'to', 'Families', 'boxes', 'According', 'to', 'https', 'www', 'nbcnews', 'com', 'news', 'us', 'news', 'food', 'banks', 'fear', 'possible', 'end', 'usda', 'farmers', 'families', 'food', 'box']\n",
      "Characters only:  124\n"
     ]
    }
   ],
   "source": [
    "print('Website: ',urls)\n",
    "print('Website: ',len(urls))\n",
    "print('Date: ',date)\n",
    "print('Date: ',len(date))\n",
    "print('Number: ',num)\n",
    "print('Number: ',len(num))\n",
    "print('Float: ',float_num)\n",
    "print('Float: ',len(float_num))\n",
    "print('Characters only: ',char)\n",
    "print('Characters only: ',len(char))"
   ]
  },
  {
   "cell_type": "code",
   "execution_count": null,
   "metadata": {},
   "outputs": [],
   "source": []
  }
 ],
 "metadata": {
  "kernelspec": {
   "display_name": "Python 3",
   "language": "python",
   "name": "python3"
  },
  "language_info": {
   "codemirror_mode": {
    "name": "ipython",
    "version": 3
   },
   "file_extension": ".py",
   "mimetype": "text/x-python",
   "name": "python",
   "nbconvert_exporter": "python",
   "pygments_lexer": "ipython3",
   "version": "3.8.5"
  }
 },
 "nbformat": 4,
 "nbformat_minor": 2
}
