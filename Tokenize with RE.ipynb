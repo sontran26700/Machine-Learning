{
 "cells": [
  {
   "cell_type": "code",
   "execution_count": 1,
   "metadata": {},
   "outputs": [],
   "source": [
    "# mục tiêu: sử dụng Regular Expression để tokenize một văn bản \n",
    "# luyện tập\n",
    "# https://www.w3schools.com/python/python_regex.asp\n",
    "import re"
   ]
  },
  {
   "cell_type": "code",
   "execution_count": 29,
   "metadata": {},
   "outputs": [
    {
     "name": "stdout",
     "output_type": "stream",
     "text": [
      "['Let', 's', 'write', 'RegEx']\n"
     ]
    }
   ],
   "source": [
    "my_string = 'Let\\'s write RegEx!' \n",
    "pattern = r'\\w+'\n",
    "x = re.findall(pattern, my_string)\n",
    "print(x)"
   ]
  },
  {
   "cell_type": "code",
   "execution_count": 32,
   "metadata": {},
   "outputs": [
    {
     "data": {
      "text/plain": [
       "['!', '?', '.', '?', '?']"
      ]
     },
     "execution_count": 32,
     "metadata": {},
     "output_type": "execute_result"
    }
   ],
   "source": [
    "my_string = \"Let's write RegEx!  Won't that be fun?  \\\n",
    "I sure think so.  Can you find 4 sentences?  Or perhaps, all 19 words?\"\n",
    "pattern = r'[?.!]'\n",
    "re.findall(pattern, my_string)"
   ]
  },
  {
   "cell_type": "code",
   "execution_count": 33,
   "metadata": {},
   "outputs": [
    {
     "data": {
      "text/plain": [
       "['RegEx!', 'fun?', 'so.', 'sentences?', 'words?']"
      ]
     },
     "execution_count": 33,
     "metadata": {},
     "output_type": "execute_result"
    }
   ],
   "source": [
    "pattern = r'\\w+[?.!]'\n",
    "re.findall(pattern, my_string)"
   ]
  },
  {
   "cell_type": "code",
   "execution_count": 37,
   "metadata": {},
   "outputs": [
    {
     "data": {
      "text/plain": [
       "['s write RegEx!',\n",
       " 't that be fun?',\n",
       " '  I sure think so.',\n",
       " '  Can you find 4 sentences?',\n",
       " ' all 19 words?']"
      ]
     },
     "execution_count": 37,
     "metadata": {},
     "output_type": "execute_result"
    }
   ],
   "source": [
    "pattern = r'[\\s\\w]+[?.!]'\n",
    "re.findall(pattern, my_string)"
   ]
  },
  {
   "cell_type": "code",
   "execution_count": null,
   "metadata": {},
   "outputs": [],
   "source": []
  },
  {
   "cell_type": "code",
   "execution_count": 5,
   "metadata": {},
   "outputs": [],
   "source": [
    "inputs = 'Hai khu chung cư nằm trong khu vực \"phố chung cư \\\n",
    "ở Đà Nẵng. Các ca dương tính ghi nhận tại đây gồm bệnh nhân 849, 853, 780, 781, 797 và 802.\\\n",
    "Từ 25/7 đến nay, Đà Nẵng đã ghi nhận 296 người mắc nCoV. \\\n",
    "Thành phố đang tiếp tục áp dụng cách ly xã hội theo chỉ thỉ 16 để khoanh vùng, dập dịch.'"
   ]
  },
  {
   "cell_type": "code",
   "execution_count": 6,
   "metadata": {},
   "outputs": [
    {
     "name": "stdout",
     "output_type": "stream",
     "text": [
      "Hai khu chung cư nằm trong khu vực \"phố chung cư ở Đà Nẵng. Các ca dương tính ghi nhận tại đây gồm bệnh nhân 849, 853, 780, 781, 797 và 802.Từ 25/7 đến nay, Đà Nẵng đã ghi nhận 296 người mắc nCoV. Thành phố đang tiếp tục áp dụng cách ly xã hội theo chỉ thỉ 16 để khoanh vùng, dập dịch.\n"
     ]
    }
   ],
   "source": [
    "print(inputs)"
   ]
  },
  {
   "cell_type": "code",
   "execution_count": 43,
   "metadata": {},
   "outputs": [
    {
     "name": "stdout",
     "output_type": "stream",
     "text": [
      "['Hai khu chung cư nằm trong khu vực \"phố chung cư ở Đà Nẵng.', ' Các ca dương tính ghi nhận tại đây gồm bệnh nhân 849, 853, 780, 781, 797 và 802.', 'Từ 25/7 đến nay, Đà Nẵng đã ghi nhận 296 người mắc nCoV.', ' Thành phố đang tiếp tục áp dụng cách ly xã hội theo chỉ thỉ 16 để khoanh vùng, dập dịch.']\n"
     ]
    }
   ],
   "source": [
    "pattern = r'[\\s\\w,/\"]+[?.!]'\n",
    "sents = re.findall(pattern, inputs)\n",
    "print(sents)"
   ]
  },
  {
   "cell_type": "code",
   "execution_count": 46,
   "metadata": {},
   "outputs": [
    {
     "name": "stdout",
     "output_type": "stream",
     "text": [
      "['she', 'said', 'she', 'likes', 'blue', 'red', 'ones']\n"
     ]
    }
   ],
   "source": [
    "# tách từng từ, bao gồm cả các kí hiệu dấu ra khỏi từ \n",
    "txt = 'she said: she likes blue, red ones.'\n",
    "pattern = r'\\w+'\n",
    "words = re.findall(pattern,txt)\n",
    "print(words)"
   ]
  },
  {
   "cell_type": "code",
   "execution_count": null,
   "metadata": {},
   "outputs": [],
   "source": []
  },
  {
   "cell_type": "code",
   "execution_count": 45,
   "metadata": {},
   "outputs": [
    {
     "name": "stdout",
     "output_type": "stream",
     "text": [
      "['she', 'said', ':', 'she', 'likes', 'blue', 'red', 'ones', '.']\n"
     ]
    }
   ],
   "source": [
    "# tách từng từ, bao gồm cả các kí hiệu dấu ra khỏi từ \n",
    "txt = 'she said: she likes blue, red ones.'\n",
    "pattern = r'\\w+|[:.]'\n",
    "words = re.findall(pattern,txt)\n",
    "print(words)"
   ]
  },
  {
   "cell_type": "code",
   "execution_count": null,
   "metadata": {},
   "outputs": [],
   "source": []
  }
 ],
 "metadata": {
  "kernelspec": {
   "display_name": "Python 3",
   "language": "python",
   "name": "python3"
  },
  "language_info": {
   "codemirror_mode": {
    "name": "ipython",
    "version": 3
   },
   "file_extension": ".py",
   "mimetype": "text/x-python",
   "name": "python",
   "nbconvert_exporter": "python",
   "pygments_lexer": "ipython3",
   "version": "3.7.5"
  }
 },
 "nbformat": 4,
 "nbformat_minor": 2
}
