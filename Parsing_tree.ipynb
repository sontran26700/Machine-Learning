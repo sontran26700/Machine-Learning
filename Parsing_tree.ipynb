{
 "cells": [
  {
   "cell_type": "code",
   "execution_count": 7,
   "metadata": {},
   "outputs": [],
   "source": [
    "import os\n",
    "from nltk.parse.corenlp import CoreNLPServer\n",
    "STANFORD = os.path.join(\"\", \"C:/Users/Mr.ST/Downloads/stanford-corenlp-latest/stanford-corenlp-4.2.0\")\n",
    "model = CoreNLPServer(\n",
    "   os.path.join(STANFORD, \"C:/Users/Mr.ST/Downloads/stanford-corenlp-latest/stanford-corenlp-4.2.0/stanford-corenlp-4.2.0.jar\"),\n",
    "   os.path.join(STANFORD, \"C:/Users/Mr.ST/Downloads/stanford-corenlp-latest/stanford-corenlp-4.2.0/stanford-corenlp-4.2.0-models.jar\"),    \n",
    ")"
   ]
  },
  {
   "cell_type": "markdown",
   "metadata": {},
   "source": [
    "model.start()"
   ]
  },
  {
   "cell_type": "code",
   "execution_count": 8,
   "metadata": {},
   "outputs": [],
   "source": [
    "from nltk.tree import Tree\n",
    "from nltk.parse.corenlp import CoreNLPParser"
   ]
  },
  {
   "cell_type": "code",
   "execution_count": 9,
   "metadata": {},
   "outputs": [
    {
     "name": "stdout",
     "output_type": "stream",
     "text": [
      "(ROOT\n",
      "  (S\n",
      "    (NP (DT the) (NN bear))\n",
      "    (VP\n",
      "      (VBD chased)\n",
      "      (NP (DT the) (NN squirrel))\n",
      "      (PP (IN on) (NP (DT the) (NN tree))))\n",
      "    (. .)))\n"
     ]
    }
   ],
   "source": [
    "string = \"the bear chased the squirrel on the tree.\"\n",
    "parser = CoreNLPParser()\n",
    "parse = next(parser.raw_parse(string))\n",
    "print(str(parse))"
   ]
  },
  {
   "cell_type": "code",
   "execution_count": 10,
   "metadata": {},
   "outputs": [
    {
     "name": "stdout",
     "output_type": "stream",
     "text": [
      "                              ROOT                       \n",
      "                               |                          \n",
      "                               S                         \n",
      "      _________________________|_______________________   \n",
      "     |                         VP                      | \n",
      "     |          _______________|__________             |  \n",
      "     |         |         |                PP           | \n",
      "     |         |         |             ___|___         |  \n",
      "     NP        |         NP           |       NP       | \n",
      "  ___|___      |      ___|_____       |    ___|___     |  \n",
      " DT      NN   VBD    DT        NN     IN  DT      NN   . \n",
      " |       |     |     |         |      |   |       |    |  \n",
      "the     bear chased the     squirrel  on the     tree  . \n",
      "\n"
     ]
    }
   ],
   "source": [
    "\n",
    "tree = Tree.fromstring(str(parse), \n",
    "               read_node=lambda s: \"%s\" % s, \n",
    "               read_leaf=lambda s: \"%s\" % s.lower()) \n",
    "tree.pretty_print()"
   ]
  },
  {
   "cell_type": "code",
   "execution_count": 11,
   "metadata": {},
   "outputs": [
    {
     "name": "stdout",
     "output_type": "stream",
     "text": [
      "(ROOT\n",
      "  (S\n",
      "    (NP (DT the) (NN bear))\n",
      "    (VP\n",
      "      (VBD chased)\n",
      "      (NP (DT the) (NN squirrel))\n",
      "      (PP (IN on) (NP (DT the) (NN tree))))\n",
      "    (. .)))\n"
     ]
    }
   ],
   "source": [
    "def parse_processing(string):\n",
    "    parser = CoreNLPParser()\n",
    "    parse = next(parser.raw_parse(string))\n",
    "    tree = Tree.fromstring(str(parse), \n",
    "               read_node=lambda s: \"%s\" % s, # xuất node\n",
    "               read_leaf=lambda s: \"%s\" % s.lower()) # xuất lá\n",
    "    return tree\n",
    "tree = parse_processing(string)\n",
    "print(tree)"
   ]
  },
  {
   "cell_type": "code",
   "execution_count": 12,
   "metadata": {},
   "outputs": [
    {
     "name": "stdout",
     "output_type": "stream",
     "text": [
      "['the', 'bear', 'chased', 'the', 'squirrel', 'on', 'the', 'tree', '.']\n",
      "S\n"
     ]
    }
   ],
   "source": [
    "print(tree.leaves())\n",
    "for child in tree:\n",
    "    print(child.label())"
   ]
  },
  {
   "cell_type": "code",
   "execution_count": null,
   "metadata": {},
   "outputs": [],
   "source": []
  },
  {
   "cell_type": "code",
   "execution_count": null,
   "metadata": {},
   "outputs": [],
   "source": []
  },
  {
   "cell_type": "code",
   "execution_count": null,
   "metadata": {},
   "outputs": [],
   "source": []
  },
  {
   "cell_type": "code",
   "execution_count": null,
   "metadata": {},
   "outputs": [],
   "source": []
  },
  {
   "cell_type": "code",
   "execution_count": null,
   "metadata": {},
   "outputs": [],
   "source": []
  },
  {
   "cell_type": "code",
   "execution_count": null,
   "metadata": {},
   "outputs": [],
   "source": []
  },
  {
   "cell_type": "code",
   "execution_count": null,
   "metadata": {},
   "outputs": [],
   "source": []
  },
  {
   "cell_type": "code",
   "execution_count": null,
   "metadata": {},
   "outputs": [],
   "source": []
  },
  {
   "cell_type": "code",
   "execution_count": null,
   "metadata": {},
   "outputs": [],
   "source": []
  },
  {
   "cell_type": "code",
   "execution_count": null,
   "metadata": {},
   "outputs": [],
   "source": []
  },
  {
   "cell_type": "code",
   "execution_count": null,
   "metadata": {},
   "outputs": [],
   "source": []
  },
  {
   "cell_type": "code",
   "execution_count": null,
   "metadata": {},
   "outputs": [],
   "source": []
  },
  {
   "cell_type": "code",
   "execution_count": null,
   "metadata": {},
   "outputs": [],
   "source": []
  },
  {
   "cell_type": "code",
   "execution_count": null,
   "metadata": {},
   "outputs": [],
   "source": []
  }
 ],
 "metadata": {
  "kernelspec": {
   "display_name": "Python 3",
   "language": "python",
   "name": "python3"
  },
  "language_info": {
   "codemirror_mode": {
    "name": "ipython",
    "version": 3
   },
   "file_extension": ".py",
   "mimetype": "text/x-python",
   "name": "python",
   "nbconvert_exporter": "python",
   "pygments_lexer": "ipython3",
   "version": "3.8.5"
  }
 },
 "nbformat": 4,
 "nbformat_minor": 2
}
