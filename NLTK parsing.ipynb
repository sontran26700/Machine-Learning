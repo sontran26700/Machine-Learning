{
 "cells": [
  {
   "cell_type": "code",
   "execution_count": 1,
   "metadata": {},
   "outputs": [],
   "source": [
    "import nltk"
   ]
  },
  {
   "cell_type": "code",
   "execution_count": 2,
   "metadata": {},
   "outputs": [],
   "source": [
    "grammar1 = nltk.CFG.fromstring(\"\"\"\n",
    "  S -> NP VP\n",
    "  VP -> V NP | V NP PP\n",
    "  PP -> P NP\n",
    "  V -> \"saw\" | \"ate\" | \"walked\"\n",
    "  NP -> \"John\" | \"Mary\" | \"Bob\" | Det N | Det N PP\n",
    "  Det -> \"a\" | \"an\" | \"the\" | \"my\"\n",
    "  N -> \"man\" | \"dog\" | \"cat\" | \"telescope\" | \"park\"\n",
    "  P -> \"in\" | \"on\" | \"by\" | \"with\"\n",
    "  \"\"\")"
   ]
  },
  {
   "cell_type": "code",
   "execution_count": 3,
   "metadata": {},
   "outputs": [],
   "source": [
    "parser = nltk.ChartParser(grammar1)\n",
    "#print(parser.grammar())"
   ]
  },
  {
   "cell_type": "code",
   "execution_count": 4,
   "metadata": {},
   "outputs": [
    {
     "name": "stdout",
     "output_type": "stream",
     "text": [
      "(S\n",
      "  (NP Mary)\n",
      "  (VP (V saw) (NP Bob) (PP (P with) (NP (Det a) (N dog)))))\n",
      "          S                  \n",
      "  ________|___                \n",
      " |            VP             \n",
      " |     _______|____           \n",
      " |    |   |        PP        \n",
      " |    |   |    ____|___       \n",
      " |    |   |   |        NP    \n",
      " |    |   |   |     ___|___   \n",
      " NP   V   NP  P   Det      N \n",
      " |    |   |   |    |       |  \n",
      "Mary saw Bob with  a      dog\n",
      "\n"
     ]
    }
   ],
   "source": [
    "sent = 'Mary saw Bob with a dog'\n",
    "sent = sent.split()\n",
    "for tree in parser.parse(sent):\n",
    "    print(tree)\n",
    "    tree.pretty_print()"
   ]
  },
  {
   "cell_type": "code",
   "execution_count": 5,
   "metadata": {},
   "outputs": [],
   "source": [
    "# văn phạm đệ qui \n",
    "grammar2 = nltk.CFG.fromstring(\"\"\"\n",
    "  S  -> NP VP\n",
    "  NP -> Det Nom | PropN | NP PP\n",
    "  Nom -> Adj Nom | N\n",
    "  VP -> V Adj | V NP | V S | V NP PP\n",
    "  PP -> P NP\n",
    "  PropN -> 'Buster' | 'Chatterer' | 'Joe'\n",
    "  Det -> 'the' | 'a'\n",
    "  N -> 'bear' | 'squirrel' | 'tree' | 'fish' | 'log'\n",
    "  Adj  -> 'angry' | 'frightened' |  'little' | 'tall'\n",
    "  V ->  'chased'  | 'saw' | 'said' | 'thought' | 'was' | 'put'\n",
    "  P -> 'on'\n",
    "  \"\"\")"
   ]
  },
  {
   "cell_type": "code",
   "execution_count": 6,
   "metadata": {},
   "outputs": [
    {
     "name": "stdout",
     "output_type": "stream",
     "text": [
      "(S\n",
      "  (NP (Det the) (Nom (N bear)))\n",
      "  (VP\n",
      "    (V chased)\n",
      "    (NP (Det the) (Nom (N squirrel)))\n",
      "    (PP (P on) (NP (Det the) (Nom (N tree))))))\n",
      "                     S                               \n",
      "      _______________|_________                       \n",
      "     |                         VP                    \n",
      "     |          _______________|__________            \n",
      "     |         |         |                PP         \n",
      "     |         |         |             ___|___        \n",
      "     NP        |         NP           |       NP     \n",
      "  ___|___      |      ___|_____       |    ___|___    \n",
      " |      Nom    |     |        Nom     |   |      Nom \n",
      " |       |     |     |         |      |   |       |   \n",
      "Det      N     V    Det        N      P  Det      N  \n",
      " |       |     |     |         |      |   |       |   \n",
      "the     bear chased the     squirrel  on the     tree\n",
      "\n",
      "(S\n",
      "  (NP (Det the) (Nom (N bear)))\n",
      "  (VP\n",
      "    (V chased)\n",
      "    (NP\n",
      "      (NP (Det the) (Nom (N squirrel)))\n",
      "      (PP (P on) (NP (Det the) (Nom (N tree)))))))\n",
      "                     S                               \n",
      "      _______________|_________                       \n",
      "     |                         VP                    \n",
      "     |          _______________|______                \n",
      "     |         |                      NP             \n",
      "     |         |          ____________|___            \n",
      "     |         |         |                PP         \n",
      "     |         |         |             ___|___        \n",
      "     NP        |         NP           |       NP     \n",
      "  ___|___      |      ___|_____       |    ___|___    \n",
      " |      Nom    |     |        Nom     |   |      Nom \n",
      " |       |     |     |         |      |   |       |   \n",
      "Det      N     V    Det        N      P  Det      N  \n",
      " |       |     |     |         |      |   |       |   \n",
      "the     bear chased the     squirrel  on the     tree\n",
      "\n"
     ]
    }
   ],
   "source": [
    "parser = nltk.ChartParser(grammar2)\n",
    "#sent = 'the angry bear chased the frightened little squirrel'\n",
    "sent = 'the bear chased the squirrel on the tree'\n",
    "sent = sent.split()\n",
    "trees = parser.parse(sent)\n",
    "for tree in trees:\n",
    "    print(tree)\n",
    "    tree.pretty_print()"
   ]
  },
  {
   "cell_type": "code",
   "execution_count": 7,
   "metadata": {},
   "outputs": [],
   "source": [
    "grammar = nltk.PCFG.fromstring('''\n",
    "  NP  -> NNS [0.5] | JJ NNS [0.3] | NP CC NP [0.2]\n",
    "  NNS -> \"cats\" [0.1] | \"dogs\" [0.2] | \"mice\" [0.3] | NNS CC NNS [0.4]\n",
    "  JJ  -> \"big\" [0.4] | \"small\" [0.6]\n",
    "  CC  -> \"and\" [0.9] | \"or\" [0.1]\n",
    "  ''')\n",
    "viterbi_parser = nltk.ViterbiParser(grammar)\n",
    "parser = nltk.ChartParser(grammar)"
   ]
  },
  {
   "cell_type": "code",
   "execution_count": 8,
   "metadata": {},
   "outputs": [
    {
     "name": "stdout",
     "output_type": "stream",
     "text": [
      "(NP (JJ big) (NNS (NNS cats) (CC and) (NNS dogs))) (p=0.000864)\n",
      "          NP         \n",
      "  ________|___        \n",
      " |           NNS     \n",
      " |    ________|___    \n",
      " JJ NNS       CC NNS \n",
      " |   |        |   |   \n",
      "big cats     and dogs\n",
      "\n"
     ]
    }
   ],
   "source": [
    "sent = 'big cats and dogs'\n",
    "sent = sent.split()\n",
    "trees = viterbi_parser.parse(sent)\n",
    "for tree in trees:\n",
    "    print(tree)\n",
    "    tree.pretty_print()"
   ]
  },
  {
   "cell_type": "code",
   "execution_count": 9,
   "metadata": {},
   "outputs": [
    {
     "name": "stdout",
     "output_type": "stream",
     "text": [
      "(NP (JJ big) (NNS (NNS cats) (CC and) (NNS dogs)))\n",
      "          NP         \n",
      "  ________|___        \n",
      " |           NNS     \n",
      " |    ________|___    \n",
      " JJ NNS       CC NNS \n",
      " |   |        |   |   \n",
      "big cats     and dogs\n",
      "\n",
      "(NP (NP (JJ big) (NNS cats)) (CC and) (NP (NNS dogs)))\n",
      "         NP          \n",
      "      ___|________    \n",
      "     NP       |   NP \n",
      "  ___|___     |   |   \n",
      " JJ     NNS   CC NNS \n",
      " |       |    |   |   \n",
      "big     cats and dogs\n",
      "\n"
     ]
    }
   ],
   "source": [
    "sent = 'big cats and dogs'\n",
    "sent = sent.split()\n",
    "trees = parser.parse(sent)\n",
    "for tree in trees:\n",
    "    print(tree)\n",
    "    tree.pretty_print()"
   ]
  },
  {
   "cell_type": "code",
   "execution_count": null,
   "metadata": {},
   "outputs": [],
   "source": []
  },
  {
   "cell_type": "code",
   "execution_count": null,
   "metadata": {},
   "outputs": [],
   "source": []
  },
  {
   "cell_type": "code",
   "execution_count": null,
   "metadata": {},
   "outputs": [],
   "source": []
  },
  {
   "cell_type": "code",
   "execution_count": null,
   "metadata": {},
   "outputs": [],
   "source": []
  }
 ],
 "metadata": {
  "kernelspec": {
   "display_name": "Python 3",
   "language": "python",
   "name": "python3"
  },
  "language_info": {
   "codemirror_mode": {
    "name": "ipython",
    "version": 3
   },
   "file_extension": ".py",
   "mimetype": "text/x-python",
   "name": "python",
   "nbconvert_exporter": "python",
   "pygments_lexer": "ipython3",
   "version": "3.8.5"
  }
 },
 "nbformat": 4,
 "nbformat_minor": 2
}
